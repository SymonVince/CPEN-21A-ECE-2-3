{
  "nbformat": 4,
  "nbformat_minor": 0,
  "metadata": {
    "colab": {
      "name": "Midterm Exam.ipynb",
      "provenance": [],
      "authorship_tag": "ABX9TyOQXG0mYkvPMn+btKg94r5B",
      "include_colab_link": true
    },
    "kernelspec": {
      "name": "python3",
      "display_name": "Python 3"
    },
    "language_info": {
      "name": "python"
    }
  },
  "cells": [
    {
      "cell_type": "markdown",
      "metadata": {
        "id": "view-in-github",
        "colab_type": "text"
      },
      "source": [
        "<a href=\"https://colab.research.google.com/github/SymonVince/CPEN-21A-ECE-2-3/blob/main/Midterm_Exam.ipynb\" target=\"_parent\"><img src=\"https://colab.research.google.com/assets/colab-badge.svg\" alt=\"Open In Colab\"/></a>"
      ]
    },
    {
      "cell_type": "markdown",
      "metadata": {
        "id": "JM0r5UbTs2Vf"
      },
      "source": [
        "##**Midterm Exam**"
      ]
    },
    {
      "cell_type": "markdown",
      "metadata": {
        "id": "UVbClvfNvfDs"
      },
      "source": [
        "##Problem Statement 1"
      ]
    },
    {
      "cell_type": "code",
      "metadata": {
        "colab": {
          "base_uri": "https://localhost:8080/"
        },
        "id": "m5IFzutFs-rm",
        "outputId": "5a50004a-7557-4eef-f0ae-6d75f75da621"
      },
      "source": [
        "a=\"Symon Vince B. Vicente\"\n",
        "b=\"202014040\"\n",
        "c=\"20 years old\"\n",
        "d=\"June 9, 2001\"\n",
        "e=\"362 Malabag, Silang, Cavite\"\n",
        "f=\"BSECE\" \n",
        "g=\"1.39\"\n",
        "\n",
        "print(\"My name is\"\" \"+ a+\".\")\n",
        "print(\"My student number is\"\" \"+b+\".\")\n",
        "print(\"I am\"\" \"+c+\".\")\n",
        "print(\"My birthday is on\"\" \"+d+\".\")\n",
        "print(\"I live at\"\" \"+e+\".\")\n",
        "print(\"I chose the course\"\" \"+f+\".\")\n",
        "print(\"My GWA last sem is\"\" \"+g+\".\")"
      ],
      "execution_count": 72,
      "outputs": [
        {
          "output_type": "stream",
          "name": "stdout",
          "text": [
            "My name is Symon Vince B. Vicente.\n",
            "My student number is 202014040.\n",
            "I am 20 years old.\n",
            "My birthday is on June 9, 2001.\n",
            "I live at 362 Malabag, Silang, Cavite.\n",
            "I chose the course BSECE.\n",
            "My GWA last sem is 1.39.\n"
          ]
        }
      ]
    },
    {
      "cell_type": "markdown",
      "metadata": {
        "id": "Ghy1lXT0wjCz"
      },
      "source": [
        "##Problem Statement 2"
      ]
    },
    {
      "cell_type": "code",
      "metadata": {
        "colab": {
          "base_uri": "https://localhost:8080/"
        },
        "id": "wl1yZYDgwnQk",
        "outputId": "4d9379a8-0931-46ff-b260-cf6df8136071"
      },
      "source": [
        "n=4\n",
        "answ=\"Y\"\n",
        "\n",
        "print(2<n and n<6)\n",
        "print(2<n or n==6)\n",
        "print(not(2<n or n==6))\n",
        "print(not(n<6))\n",
        "print(answ==\"Y\" or answ==\"y\")\n",
        "print(answ==\"Y\" and answ==\"y\")\n",
        "print(not(answ==\"y\"))\n",
        "print(2<n and n==5+1) or (answ==\"No\")\n",
        "print(((n==2) and (n==7)) or (answ==\"Y\"))\n",
        "print(n==2) and (n==7 or answ==\"Y\")"
      ],
      "execution_count": 73,
      "outputs": [
        {
          "output_type": "stream",
          "name": "stdout",
          "text": [
            "True\n",
            "True\n",
            "False\n",
            "False\n",
            "True\n",
            "False\n",
            "True\n",
            "False\n",
            "True\n",
            "False\n"
          ]
        }
      ]
    },
    {
      "cell_type": "markdown",
      "metadata": {
        "id": "f6fVkR410745"
      },
      "source": [
        "##Problem Statement 3"
      ]
    },
    {
      "cell_type": "code",
      "metadata": {
        "colab": {
          "base_uri": "https://localhost:8080/"
        },
        "id": "RfYn3Jtp1BKm",
        "outputId": "96730c63-4833-4f50-eb80-5717d69bdb8e"
      },
      "source": [
        "x = 2\n",
        "y = -3\n",
        "w = 7\n",
        "z = -10\n",
        "\n",
        "print(x/y)\n",
        "print(w/y/x)\n",
        "print(z/y%x)\n",
        "print(x%-y*w)\n",
        "print(x%y)\n",
        "print(z%w-y/x*5+5)\n",
        "print(9-x%(2+y))\n",
        "print(z//w)\n",
        "print((2+y)**2)\n",
        "print(w/x*2)"
      ],
      "execution_count": 74,
      "outputs": [
        {
          "output_type": "stream",
          "name": "stdout",
          "text": [
            "-0.6666666666666666\n",
            "-1.1666666666666667\n",
            "1.3333333333333335\n",
            "14\n",
            "-1\n",
            "16.5\n",
            "9\n",
            "-2\n",
            "1\n",
            "7.0\n"
          ]
        }
      ]
    }
  ]
}