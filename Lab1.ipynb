{
  "nbformat": 4,
  "nbformat_minor": 0,
  "metadata": {
    "colab": {
      "name": "Lab1.ipynb",
      "provenance": [],
      "authorship_tag": "ABX9TyMf8hkzJ8g8ycp2tm05GmPS",
      "include_colab_link": true
    },
    "kernelspec": {
      "name": "python3",
      "display_name": "Python 3"
    },
    "language_info": {
      "name": "python"
    }
  },
  "cells": [
    {
      "cell_type": "markdown",
      "metadata": {
        "id": "view-in-github",
        "colab_type": "text"
      },
      "source": [
        "<a href=\"https://colab.research.google.com/github/SymonVince/CPEN-21A-ECE-2-3/blob/main/Lab1.ipynb\" target=\"_parent\"><img src=\"https://colab.research.google.com/assets/colab-badge.svg\" alt=\"Open In Colab\"/></a>"
      ]
    },
    {
      "cell_type": "markdown",
      "metadata": {
        "id": "IyePaQIkpgzY"
      },
      "source": [
        "Laboratory 1"
      ]
    },
    {
      "cell_type": "code",
      "metadata": {
        "colab": {
          "base_uri": "https://localhost:8080/"
        },
        "id": "FNbacJNbpMnf",
        "outputId": "1c5eb08e-7248-4515-d67e-8cb32d48333f"
      },
      "source": [
        "print (\"Welcome to Python Programming\")"
      ],
      "execution_count": 13,
      "outputs": [
        {
          "output_type": "stream",
          "name": "stdout",
          "text": [
            "Welcome to Python Programming\n"
          ]
        }
      ]
    },
    {
      "cell_type": "code",
      "metadata": {
        "colab": {
          "base_uri": "https://localhost:8080/"
        },
        "id": "tpsnZBGCp33X",
        "outputId": "1d1203c9-c16b-4be2-e7c6-3bfca586b619"
      },
      "source": [
        "Name = \"Symon Vince B. Vicente\"\n",
        "Age = \"20 years old\"\n",
        "Address = \"362 Malabag, Silang, Cavite\"\n",
        "print (\"Name:\", Name)\n",
        "print (\"Age:\", Age)\n",
        "print (\"Address:\", Address)"
      ],
      "execution_count": 14,
      "outputs": [
        {
          "output_type": "stream",
          "name": "stdout",
          "text": [
            "Name: Symon Vince B. Vicente\n",
            "Age: 20 years old\n",
            "Address: 362 Malabag, Silang, Cavite\n"
          ]
        }
      ]
    },
    {
      "cell_type": "code",
      "metadata": {
        "colab": {
          "base_uri": "https://localhost:8080/"
        },
        "id": "C6LbLWCdqjSF",
        "outputId": "c3bbdb5f-eba5-4358-c2c7-dc75b84dd87c"
      },
      "source": [
        "x = \"Symon Vince B. Vicente\"\n",
        "y = \"20 years old\"\n",
        "z = \"362 Malabag, Silang, Cavite\"\n",
        "print(\"My name is\"\" \"+x)\n",
        "print(\"I am\"\" \"+y)\n",
        "print(\"I live in\"\" \"+z)"
      ],
      "execution_count": 15,
      "outputs": [
        {
          "output_type": "stream",
          "name": "stdout",
          "text": [
            "My name is Symon Vince B. Vicente\n",
            "I am 20 years old\n",
            "I live in 362 Malabag, Silang, Cavite\n"
          ]
        }
      ]
    }
  ]
}