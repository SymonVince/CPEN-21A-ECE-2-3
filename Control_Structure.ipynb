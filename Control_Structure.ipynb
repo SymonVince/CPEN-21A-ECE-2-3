{
  "nbformat": 4,
  "nbformat_minor": 0,
  "metadata": {
    "colab": {
      "name": "Control Structure.ipynb",
      "provenance": [],
      "authorship_tag": "ABX9TyOs4h4BbZyRmTGbd7aPC94e",
      "include_colab_link": true
    },
    "kernelspec": {
      "name": "python3",
      "display_name": "Python 3"
    },
    "language_info": {
      "name": "python"
    }
  },
  "cells": [
    {
      "cell_type": "markdown",
      "metadata": {
        "id": "view-in-github",
        "colab_type": "text"
      },
      "source": [
        "<a href=\"https://colab.research.google.com/github/SymonVince/CPEN-21A-ECE-2-3/blob/main/Control_Structure.ipynb\" target=\"_parent\"><img src=\"https://colab.research.google.com/assets/colab-badge.svg\" alt=\"Open In Colab\"/></a>"
      ]
    },
    {
      "cell_type": "markdown",
      "metadata": {
        "id": "yDZKsIsmywNc"
      },
      "source": [
        "##If Statement"
      ]
    },
    {
      "cell_type": "code",
      "metadata": {
        "colab": {
          "base_uri": "https://localhost:8080/"
        },
        "id": "Sc5i1lG3yyrI",
        "outputId": "faa3f990-10be-4fef-d4d6-20020d850a31"
      },
      "source": [
        "a=12 \n",
        "b=100\n",
        "if a<b:\n",
        "  print(\"a is less than b\")"
      ],
      "execution_count": null,
      "outputs": [
        {
          "output_type": "stream",
          "name": "stdout",
          "text": [
            "a is less than b\n"
          ]
        }
      ]
    },
    {
      "cell_type": "markdown",
      "metadata": {
        "id": "Tt9mvzB1Dwfe"
      },
      "source": [
        "##Elif Statement"
      ]
    },
    {
      "cell_type": "code",
      "metadata": {
        "colab": {
          "base_uri": "https://localhost:8080/"
        },
        "id": "WvcMw1V1DzcO",
        "outputId": "6dfe1617-677b-4840-ea8e-5f559aa5e8c4"
      },
      "source": [
        "a=30\n",
        "b=15\n",
        "if a<b:\n",
        "  print(\"a is less than b\")\n",
        "elif a>b:\n",
        "  print(\"a is greater than b\")"
      ],
      "execution_count": null,
      "outputs": [
        {
          "output_type": "stream",
          "name": "stdout",
          "text": [
            "a is greater than b\n"
          ]
        }
      ]
    },
    {
      "cell_type": "markdown",
      "metadata": {
        "id": "B7mAPpY50xH_"
      },
      "source": [
        "##Else Statement"
      ]
    },
    {
      "cell_type": "code",
      "metadata": {
        "colab": {
          "base_uri": "https://localhost:8080/"
        },
        "id": "ttMcVCDl0zdJ",
        "outputId": "d08776e4-6d1a-437f-c004-29c647596404"
      },
      "source": [
        "a=30\n",
        "b=30\n",
        "if a<b:\n",
        "  print(\"a is less than b\")\n",
        "elif a>b:\n",
        "  print(\"a is greater than b\")\n",
        "else:\n",
        "  print(\"a is equal to b\")\n"
      ],
      "execution_count": null,
      "outputs": [
        {
          "output_type": "stream",
          "name": "stdout",
          "text": [
            "a is equal to b\n"
          ]
        }
      ]
    },
    {
      "cell_type": "markdown",
      "metadata": {
        "id": "EijKW8Yw07YZ"
      },
      "source": [
        "##Short Hand If Statement"
      ]
    },
    {
      "cell_type": "code",
      "metadata": {
        "id": "YFXwZzWr0-f-"
      },
      "source": [
        "a=16\n",
        "b=21\n",
        "\n",
        "if a>b: print(\"a is greater than b\")"
      ],
      "execution_count": null,
      "outputs": []
    },
    {
      "cell_type": "markdown",
      "metadata": {
        "id": "ERA1aJk_1JXe"
      },
      "source": [
        "##Short Hand If.. Else Statement"
      ]
    },
    {
      "cell_type": "code",
      "metadata": {
        "colab": {
          "base_uri": "https://localhost:8080/"
        },
        "id": "Vi43UQ7V1Ns_",
        "outputId": "a8e34db8-6774-4900-8745-491b7f79c287"
      },
      "source": [
        "print(\"a is greater than b\") if a>b else print(\"b is greater than a\")"
      ],
      "execution_count": null,
      "outputs": [
        {
          "output_type": "stream",
          "name": "stdout",
          "text": [
            "b is greater than a\n"
          ]
        }
      ]
    },
    {
      "cell_type": "markdown",
      "metadata": {
        "id": "aLmryhUX2EPQ"
      },
      "source": [
        "And logic condition"
      ]
    },
    {
      "cell_type": "code",
      "metadata": {
        "colab": {
          "base_uri": "https://localhost:8080/"
        },
        "id": "kldtBVt_2bZt",
        "outputId": "25459ab2-e39d-4a10-eff6-e6a9a950f610"
      },
      "source": [
        "a=200\n",
        "b=33\n",
        "c=500\n",
        "if a>b and c>a:\n",
        "  print(\"Both conditions are true\")\n",
        "else:\n",
        "  print(\"Either of the two conditions is true\")"
      ],
      "execution_count": null,
      "outputs": [
        {
          "output_type": "stream",
          "name": "stdout",
          "text": [
            "Both conditions are true\n"
          ]
        }
      ]
    },
    {
      "cell_type": "markdown",
      "metadata": {
        "id": "sGO6M5jc2_DW"
      },
      "source": [
        "Or logic condition"
      ]
    },
    {
      "cell_type": "code",
      "metadata": {
        "colab": {
          "base_uri": "https://localhost:8080/"
        },
        "id": "xlLJvbgE3CNk",
        "outputId": "8d768f34-fc0a-4a16-feb6-65fb8eb2234a"
      },
      "source": [
        "if a<b or c>a:\n",
        "  print(\"True\")\n",
        "else:\n",
        "  print(\"False\")"
      ],
      "execution_count": null,
      "outputs": [
        {
          "output_type": "stream",
          "name": "stdout",
          "text": [
            "True\n"
          ]
        }
      ]
    },
    {
      "cell_type": "markdown",
      "metadata": {
        "id": "ew_ZOYhU3lZ7"
      },
      "source": [
        "Nested If"
      ]
    },
    {
      "cell_type": "code",
      "metadata": {
        "colab": {
          "base_uri": "https://localhost:8080/"
        },
        "id": "xY-6MjkM4Jf7",
        "outputId": "b5d53fc7-bdc3-402b-8468-69572abcc4c1"
      },
      "source": [
        "x=11\n",
        "if x>10:\n",
        "  print(\"Above 10\")\n",
        "  if x>20:\n",
        "    print(\"and above 20\")\n",
        "    if x>30:\n",
        "      print(\"and above 30\")\n",
        "    else:\n",
        "      print(\"not above 30\")\n",
        "  else:\n",
        "    print(\"not above 20\")\n",
        "else:\n",
        "  print(\"below 10\")\n"
      ],
      "execution_count": null,
      "outputs": [
        {
          "output_type": "stream",
          "name": "stdout",
          "text": [
            "Above 10\n",
            "not above 20\n"
          ]
        }
      ]
    },
    {
      "cell_type": "markdown",
      "metadata": {
        "id": "s3lluPle5ooi"
      },
      "source": [
        "Example 1"
      ]
    },
    {
      "cell_type": "code",
      "metadata": {
        "colab": {
          "base_uri": "https://localhost:8080/"
        },
        "id": "6oml28S05rEB",
        "outputId": "db826730-f7ee-417f-de39-b1859e82fc63"
      },
      "source": [
        "age=int(input(\"Enter your age:\"))\n",
        "if age>=18:\n",
        "  print(\"The input age is qualified to vote\")\n",
        "else:\n",
        "  print(\"The input age is not yet qualified to vote\")"
      ],
      "execution_count": null,
      "outputs": [
        {
          "output_type": "stream",
          "name": "stdout",
          "text": [
            "Enter your age:20\n",
            "The input age is qualified to vote\n"
          ]
        }
      ]
    },
    {
      "cell_type": "markdown",
      "metadata": {
        "id": "iIu2AaJ_-EEM"
      },
      "source": [
        "Example 2"
      ]
    },
    {
      "cell_type": "code",
      "metadata": {
        "colab": {
          "base_uri": "https://localhost:8080/"
        },
        "id": "oPceZs3b-Fke",
        "outputId": "05149f7e-2bb5-4cd9-f888-508fa15b15ec"
      },
      "source": [
        "# Write a Python program that determines if the input number is POSITIVE, NEGATIVE, or ZERO\n",
        "\n",
        "number = float(input(\"Enter a number:\"))\n",
        "if number>0:\n",
        "  print(\"The number is positive\")\n",
        "elif number<0:\n",
        "  print(\"The number is negative\")\n",
        "elif number==0:\n",
        "  print(\"The number is zero\")\n",
        "\n"
      ],
      "execution_count": null,
      "outputs": [
        {
          "output_type": "stream",
          "name": "stdout",
          "text": [
            "Enter a number:54.889907\n",
            "The number is positive\n"
          ]
        }
      ]
    },
    {
      "cell_type": "markdown",
      "metadata": {
        "id": "9yMCTjMQ8VPB"
      },
      "source": [
        "Example 3"
      ]
    },
    {
      "cell_type": "code",
      "metadata": {
        "colab": {
          "base_uri": "https://localhost:8080/"
        },
        "id": "AFowpwLh8XXO",
        "outputId": "1c559d3a-0023-4681-926c-cdae02af05f7"
      },
      "source": [
        "# Write a Python program that determines if the grades are:\n",
        "# grade>=75 \"Passed\"\n",
        "# grade==74 \"Remedial\"\n",
        "# grade<74 \"Failed\"\n",
        "\n",
        "grade = float(input(\"Enter your grade:\"))\n",
        "if grade>=75:\n",
        "  print(\"You passed\")\n",
        "elif grade>74 and grade<75:\n",
        "  print(\"Remedial\")\n",
        "else:\n",
        "  print(\"You failed\")"
      ],
      "execution_count": null,
      "outputs": [
        {
          "output_type": "stream",
          "name": "stdout",
          "text": [
            "Enter your grade:74.0009\n",
            "Remedial\n"
          ]
        }
      ]
    }
  ]
}