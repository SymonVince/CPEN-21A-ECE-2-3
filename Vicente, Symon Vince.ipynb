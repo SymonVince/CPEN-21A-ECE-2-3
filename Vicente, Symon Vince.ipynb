{
  "nbformat": 4,
  "nbformat_minor": 0,
  "metadata": {
    "colab": {
      "name": "Untitled0.ipynb",
      "provenance": [],
      "authorship_tag": "ABX9TyP3QOsgj98GstIe0L+2W+dY",
      "include_colab_link": true
    },
    "kernelspec": {
      "name": "python3",
      "display_name": "Python 3"
    },
    "language_info": {
      "name": "python"
    }
  },
  "cells": [
    {
      "cell_type": "markdown",
      "metadata": {
        "id": "view-in-github",
        "colab_type": "text"
      },
      "source": [
        "<a href=\"https://colab.research.google.com/github/SymonVince/CPEN-21A-ECE-2-3/blob/main/Vicente%2C%20Symon%20Vince.ipynb\" target=\"_parent\"><img src=\"https://colab.research.google.com/assets/colab-badge.svg\" alt=\"Open In Colab\"/></a>"
      ]
    },
    {
      "cell_type": "markdown",
      "metadata": {
        "id": "8_Kwr4wVjSpo"
      },
      "source": [
        "##Python Indentation"
      ]
    },
    {
      "cell_type": "code",
      "metadata": {
        "colab": {
          "base_uri": "https://localhost:8080/"
        },
        "id": "GgNOfkEPi7XV",
        "outputId": "79b1c795-be6a-46d2-859f-bb02e9a98b3d"
      },
      "source": [
        "if 5>2:\n",
        "  print(\"Five is greater than two!\") #This code shows a string of words"
      ],
      "execution_count": 1,
      "outputs": [
        {
          "output_type": "stream",
          "name": "stdout",
          "text": [
            "Five is greater than two!\n"
          ]
        }
      ]
    },
    {
      "cell_type": "markdown",
      "metadata": {
        "id": "62ErAfobluo-"
      },
      "source": [
        "###Python Variable"
      ]
    },
    {
      "cell_type": "code",
      "metadata": {
        "colab": {
          "base_uri": "https://localhost:8080/"
        },
        "id": "BNWE3f8Ylsxw",
        "outputId": "f72829cb-967f-4e56-9376-7c188578e996"
      },
      "source": [
        "a,b,c=0,1,2\n",
        "d=\"Sally\"   #This is a type of string\n",
        "s='Mark'    #This is a type of string\n",
        "A='Raymond'\n",
        "print(a)\n",
        "print(b)\n",
        "print(c)\n",
        "print(d)\n",
        "print(s)\n",
        "print(A)"
      ],
      "execution_count": 17,
      "outputs": [
        {
          "output_type": "stream",
          "name": "stdout",
          "text": [
            "0\n",
            "1\n",
            "2\n",
            "Sally\n",
            "Mark\n",
            "Raymond\n"
          ]
        }
      ]
    },
    {
      "cell_type": "markdown",
      "metadata": {
        "id": "WJBtNTNXmWEe"
      },
      "source": [
        "###Casting"
      ]
    },
    {
      "cell_type": "code",
      "metadata": {
        "colab": {
          "base_uri": "https://localhost:8080/"
        },
        "id": "7ZeEvywSmZY_",
        "outputId": "8f9b7741-7f91-4154-a7f1-546fd74ff911"
      },
      "source": [
        "print(float(4.6))"
      ],
      "execution_count": 9,
      "outputs": [
        {
          "output_type": "stream",
          "name": "stdout",
          "text": [
            "4.6\n"
          ]
        }
      ]
    },
    {
      "cell_type": "code",
      "metadata": {
        "colab": {
          "base_uri": "https://localhost:8080/"
        },
        "id": "rTJ8Nfpymyfd",
        "outputId": "813a7f26-fc48-4f40-bc19-26c2f9d18a92"
      },
      "source": [
        "f=56.789\n",
        "print(type(f))"
      ],
      "execution_count": 11,
      "outputs": [
        {
          "output_type": "stream",
          "name": "stdout",
          "text": [
            "<class 'float'>\n"
          ]
        }
      ]
    },
    {
      "cell_type": "code",
      "metadata": {
        "colab": {
          "base_uri": "https://localhost:8080/"
        },
        "id": "zHaUf2NXnn_d",
        "outputId": "10f0c6ed-941b-439f-aec7-a93c8a8bcc6e"
      },
      "source": [
        "x,y,z=\"one\",\"two\",\"three\"\n",
        "print(x)\n",
        "print(y)\n",
        "print(z)"
      ],
      "execution_count": 18,
      "outputs": [
        {
          "output_type": "stream",
          "name": "stdout",
          "text": [
            "one\n",
            "two\n",
            "three\n"
          ]
        }
      ]
    },
    {
      "cell_type": "code",
      "metadata": {
        "colab": {
          "base_uri": "https://localhost:8080/"
        },
        "id": "j1uCgBG_n-B9",
        "outputId": "5ede6271-282c-44e7-b8a4-30befb7bc2d4"
      },
      "source": [
        "x=y=z=\"four\"\n",
        "print(x)\n",
        "print(y)\n",
        "print(z)"
      ],
      "execution_count": 20,
      "outputs": [
        {
          "output_type": "stream",
          "name": "stdout",
          "text": [
            "four\n",
            "four\n",
            "four\n"
          ]
        }
      ]
    },
    {
      "cell_type": "code",
      "metadata": {
        "colab": {
          "base_uri": "https://localhost:8080/"
        },
        "id": "qptuzykMoTbs",
        "outputId": "c0f6b6b9-1acc-4b9a-a127-db0625d5f31b"
      },
      "source": [
        "x=\"enjoying\"\n",
        "print(\"Python programming is\"\" \"+x)"
      ],
      "execution_count": 25,
      "outputs": [
        {
          "output_type": "stream",
          "name": "stdout",
          "text": [
            "Python programming is enjoying\n"
          ]
        }
      ]
    },
    {
      "cell_type": "markdown",
      "metadata": {
        "id": "OTVla3lJo3cU"
      },
      "source": [
        "##Operations in Python"
      ]
    },
    {
      "cell_type": "code",
      "metadata": {
        "colab": {
          "base_uri": "https://localhost:8080/"
        },
        "id": "Iw9ten_3o7hb",
        "outputId": "1396dafe-f27a-44e4-8be9-8eac2443c5b4"
      },
      "source": [
        "k=10\n",
        "l=5\n",
        "print(k+l)"
      ],
      "execution_count": 26,
      "outputs": [
        {
          "output_type": "stream",
          "name": "stdout",
          "text": [
            "15\n"
          ]
        }
      ]
    },
    {
      "cell_type": "code",
      "metadata": {
        "colab": {
          "base_uri": "https://localhost:8080/"
        },
        "id": "v7jdZ9hqpPoM",
        "outputId": "5cdc8038-8872-4b0c-a7b3-3851a40b2ae8"
      },
      "source": [
        "k+=l #Is the same as k=k+l\n",
        "print(k)"
      ],
      "execution_count": 27,
      "outputs": [
        {
          "output_type": "stream",
          "name": "stdout",
          "text": [
            "15\n"
          ]
        }
      ]
    },
    {
      "cell_type": "code",
      "metadata": {
        "colab": {
          "base_uri": "https://localhost:8080/"
        },
        "id": "wkLr1wsFprGt",
        "outputId": "1ff5f9d8-691d-45e1-fbf0-56a88ae985ca"
      },
      "source": [
        "k>l and l==l"
      ],
      "execution_count": 31,
      "outputs": [
        {
          "output_type": "execute_result",
          "data": {
            "text/plain": [
              "True"
            ]
          },
          "metadata": {},
          "execution_count": 31
        }
      ]
    },
    {
      "cell_type": "code",
      "metadata": {
        "colab": {
          "base_uri": "https://localhost:8080/"
        },
        "id": "d8_4jygbqIOS",
        "outputId": "2a45e5e6-6152-472b-86e1-0aed6fd09447"
      },
      "source": [
        "k<l or k==k"
      ],
      "execution_count": 32,
      "outputs": [
        {
          "output_type": "execute_result",
          "data": {
            "text/plain": [
              "True"
            ]
          },
          "metadata": {},
          "execution_count": 32
        }
      ]
    },
    {
      "cell_type": "code",
      "metadata": {
        "colab": {
          "base_uri": "https://localhost:8080/"
        },
        "id": "c2vcigg3qTra",
        "outputId": "0c2baee9-4ae6-457f-c003-23e69b7031f2"
      },
      "source": [
        "not(k<l or k==k)"
      ],
      "execution_count": 33,
      "outputs": [
        {
          "output_type": "execute_result",
          "data": {
            "text/plain": [
              "False"
            ]
          },
          "metadata": {},
          "execution_count": 33
        }
      ]
    },
    {
      "cell_type": "code",
      "metadata": {
        "colab": {
          "base_uri": "https://localhost:8080/"
        },
        "id": "HbUBtETGqbNS",
        "outputId": "1826b8f3-4db7-403b-d457-630b4fca6667"
      },
      "source": [
        "k is l\n",
        "k is not l"
      ],
      "execution_count": 37,
      "outputs": [
        {
          "output_type": "execute_result",
          "data": {
            "text/plain": [
              "True"
            ]
          },
          "metadata": {},
          "execution_count": 37
        }
      ]
    },
    {
      "cell_type": "code",
      "metadata": {
        "colab": {
          "base_uri": "https://localhost:8080/"
        },
        "id": "3ZKghU5Fq3g8",
        "outputId": "517d02d8-6d6a-4229-cfdf-8171141715e8"
      },
      "source": [
        "k%=5\n",
        "k"
      ],
      "execution_count": 41,
      "outputs": [
        {
          "output_type": "execute_result",
          "data": {
            "text/plain": [
              "0"
            ]
          },
          "metadata": {},
          "execution_count": 41
        }
      ]
    }
  ]
}