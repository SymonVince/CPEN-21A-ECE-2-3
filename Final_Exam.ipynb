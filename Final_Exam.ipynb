{
  "nbformat": 4,
  "nbformat_minor": 0,
  "metadata": {
    "colab": {
      "name": "Final Exam.ipynb",
      "provenance": [],
      "collapsed_sections": [],
      "authorship_tag": "ABX9TyNFv7Yw/YpjlQknhjPEzrlD",
      "include_colab_link": true
    },
    "kernelspec": {
      "name": "python3",
      "display_name": "Python 3"
    },
    "language_info": {
      "name": "python"
    }
  },
  "cells": [
    {
      "cell_type": "markdown",
      "metadata": {
        "id": "view-in-github",
        "colab_type": "text"
      },
      "source": [
        "<a href=\"https://colab.research.google.com/github/SymonVince/CPEN-21A-ECE-2-3/blob/main/Final_Exam.ipynb\" target=\"_parent\"><img src=\"https://colab.research.google.com/assets/colab-badge.svg\" alt=\"Open In Colab\"/></a>"
      ]
    },
    {
      "cell_type": "markdown",
      "source": [
        "#Final Exam"
      ],
      "metadata": {
        "id": "IXbQfGFSj5Wh"
      }
    },
    {
      "cell_type": "markdown",
      "source": [
        "##PROBLEM STATEMENT 1."
      ],
      "metadata": {
        "id": "6B9Pos3_j_so"
      }
    },
    {
      "cell_type": "code",
      "source": [
        "sum=0\n",
        "num=[-5,-4,-3,-2,-1,0,1,2,3,4]\n",
        "for x in num:\n",
        "  sum=sum+x\n",
        "print(\"The sum of 10 numbers less than 5 is:\",sum)"
      ],
      "metadata": {
        "colab": {
          "base_uri": "https://localhost:8080/"
        },
        "id": "LavPcWaoW7-7",
        "outputId": "0f2858c4-b6ef-45a4-a3f2-3b7e6102508b"
      },
      "execution_count": 3,
      "outputs": [
        {
          "output_type": "stream",
          "name": "stdout",
          "text": [
            "The sum of 10 numbers less than 5 is: -5\n"
          ]
        }
      ]
    },
    {
      "cell_type": "markdown",
      "source": [
        "##PROBLEM STATEMENT 2."
      ],
      "metadata": {
        "id": "C1DHXeu7miYV"
      }
    },
    {
      "cell_type": "code",
      "source": [
        "w=int(input())\n",
        "y=w+35\n",
        "g=w+28\n",
        "h=w\n",
        "while w<y:\n",
        "  print(w)\n",
        "  w+=7\n",
        "print(\"The sum of first and last number is: \", g+h)"
      ],
      "metadata": {
        "id": "EPv_yRAtmlTN",
        "colab": {
          "base_uri": "https://localhost:8080/"
        },
        "outputId": "c917064b-6382-443a-b50c-6a5e5c19cffe"
      },
      "execution_count": 4,
      "outputs": [
        {
          "output_type": "stream",
          "name": "stdout",
          "text": [
            "9\n",
            "9\n",
            "16\n",
            "23\n",
            "30\n",
            "37\n",
            "The sum of first and last number is:  46\n"
          ]
        }
      ]
    },
    {
      "cell_type": "markdown",
      "source": [
        "##PROBLEM STATEMENT 3."
      ],
      "metadata": {
        "id": "a9s7iF7TpqpJ"
      }
    },
    {
      "cell_type": "code",
      "source": [
        "grade=float(input(\"Enter your grade:\"))\n",
        "if grade>=90:\n",
        "  print(\"A\")\n",
        "elif grade>80 and grade<89:\n",
        "  print(\"B\")\n",
        "elif grade>70 and grade<79:\n",
        "  print(\"C\")\n",
        "elif grade>60 and grade<69:\n",
        "  print(\"D\")\n",
        "else:\n",
        "  print(\"F\")"
      ],
      "metadata": {
        "id": "xKDE2BQkpub5",
        "colab": {
          "base_uri": "https://localhost:8080/"
        },
        "outputId": "da0a9df6-e74b-4681-9e96-9b466d4fdb81"
      },
      "execution_count": 5,
      "outputs": [
        {
          "output_type": "stream",
          "name": "stdout",
          "text": [
            "Enter your grade:99.99\n",
            "A\n"
          ]
        }
      ]
    }
  ]
}